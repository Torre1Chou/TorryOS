{
 "cells": [
  {
   "cell_type": "markdown",
   "metadata": {},
   "source": [
    "### 节点：\n",
    "歌手（姓名、性别、国籍）  \n",
    "歌曲（歌曲名、发行时间、时长、歌词、点击量）  \n",
    "\n",
    "专辑（专辑名、发行时间、简介）  \n",
    "\n",
    "歌单（歌单名、简介、建立时间）   \n",
    "\n",
    "流派（流派名）   \n",
    "用户（用户名、密码、注册时间）   \n",
    "\n",
    "### 关系类型：\n",
    "歌手——歌曲：演唱   \n",
    "歌手——专辑：发行   \n",
    "专辑——歌曲：包括    \n",
    "用户——歌单：创建    \n",
    "歌曲——流派：属于    \n",
    "歌单——歌曲：包含   \n"
   ]
  },
  {
   "cell_type": "code",
   "execution_count": 1,
   "metadata": {},
   "outputs": [],
   "source": [
    "from py2neo import Graph\n",
    "graph = Graph(\"bolt: // localhost:7687\", auth=(\"neo4j\", \"12345678\"))\n",
    "\n",
    "from py2neo import Graph, Node, Relationship\n",
    "from py2neo.matching import NodeMatcher\n",
    "\n",
    "#查询节点函数\n",
    "def get_nodes(label, **kwargs):\n",
    "    matcher = NodeMatcher(graph)\n",
    "    return matcher.match(label, **kwargs)"
   ]
  },
  {
   "cell_type": "markdown",
   "metadata": {},
   "source": [
    "#### 热歌榜（根据点击量）\n"
   ]
  },
  {
   "cell_type": "code",
   "execution_count": 2,
   "metadata": {},
   "outputs": [],
   "source": [
    "#查询函数，显示歌曲的歌曲名，发行时间，时长，点击量，根据歌曲的点击量排序\n",
    "def query_songs_by_clicks():\n",
    "    query = \"\"\"\n",
    "    MATCH (song:歌曲)\n",
    "    RETURN song.名字 AS 歌曲名, song.发行时间 AS 发行时间, song.时长 AS 时长, song.点击量 AS 点击量\n",
    "    ORDER BY song.点击量 DESC\n",
    "    LIMIT 30\n",
    "    \"\"\"\n",
    "    result = graph.run(query)\n",
    "    for record in result:\n",
    "        song_name = record[\"歌曲名\"]\n",
    "        release_time = record[\"发行时间\"]\n",
    "        duration = record[\"时长\"]\n",
    "        clicks = record[\"点击量\"]\n",
    "        print(f\"歌曲名: {song_name}, 发行时间: {release_time}, 时长: {duration}, 点击量: {clicks}\")\n",
    "\n",
    "#更新函数，点击喜欢之后点击量更新为增加一\n",
    "def update_song_clicks(song_name):\n",
    "    query = f\"\"\"\n",
    "    MATCH (song:歌曲 {{名字: '{song_name}'}})\n",
    "    SET song.点击量 = song.点击量 + 1\n",
    "    RETURN song.点击量 AS 点击量\n",
    "    \"\"\"\n",
    "    result = graph.run(query).evaluate()\n",
    "    if result:\n",
    "        print(f\"歌曲'{song_name}'的点击量已更新为 {result}\")\n",
    "    else:\n",
    "        print(f\"未找到歌曲'{song_name}'\")\n"
   ]
  },
  {
   "cell_type": "code",
   "execution_count": 3,
   "metadata": {},
   "outputs": [
    {
     "name": "stdout",
     "output_type": "stream",
     "text": [
      "歌曲名: 七里香, 发行时间: 2000-10-10, 时长: 3:20, 点击量: 301\n",
      "歌曲名: 听海, 发行时间: 2002-10-10, 时长: 3:50, 点击量: 200\n",
      "歌曲名: lover, 发行时间: 2013-10-10, 时长: 4:20, 点击量: 100\n"
     ]
    }
   ],
   "source": [
    "#实例化测试\n",
    "resou= query_songs_by_clicks()\n",
    "resou"
   ]
  },
  {
   "cell_type": "code",
   "execution_count": 4,
   "metadata": {},
   "outputs": [
    {
     "name": "stdout",
     "output_type": "stream",
     "text": [
      "歌曲'七里香'的点击量已更新为 302\n"
     ]
    }
   ],
   "source": [
    "#测试点击量更新函数\n",
    "click=update_song_clicks('七里香')"
   ]
  },
  {
   "cell_type": "markdown",
   "metadata": {},
   "source": [
    "#### 流派分类（风格类型，点击跳转该流派所有歌曲）\n"
   ]
  },
  {
   "cell_type": "code",
   "execution_count": 5,
   "metadata": {},
   "outputs": [],
   "source": [
    "#查询函数，查询与该流派节点有关系的所有歌曲\n",
    "def query_songs_by_genre(genre):\n",
    "    query = f\"\"\"\n",
    "    MATCH (genre:流派 {{流派名: '{genre}'}})<-[:属于]-(song:歌曲)\n",
    "    RETURN song.名字 AS 歌曲名, song.发行时间 AS 发行时间, song.时长 AS 时长, song.点击量 AS 点击量\n",
    "    \"\"\"\n",
    "    result = graph.run(query)\n",
    "    for record in result:\n",
    "        song_name = record[\"歌曲名\"]\n",
    "        release_time = record[\"发行时间\"]\n",
    "        duration = record[\"时长\"]\n",
    "        clicks = record[\"点击量\"]\n",
    "        print(f\"歌曲名: {song_name}, 发行时间: {release_time}, 时长: {duration}, 点击量: {clicks}\")\n"
   ]
  },
  {
   "cell_type": "code",
   "execution_count": 6,
   "metadata": {},
   "outputs": [
    {
     "name": "stdout",
     "output_type": "stream",
     "text": [
      "歌曲名: 七里香, 发行时间: 2000-10-10, 时长: 3:20, 点击量: 302\n",
      "歌曲名: 听海, 发行时间: 2002-10-10, 时长: 3:50, 点击量: 200\n",
      "歌曲名: lover, 发行时间: 2013-10-10, 时长: 4:20, 点击量: 100\n"
     ]
    }
   ],
   "source": [
    "#测试流派分类\n",
    "liupai = query_songs_by_genre('流行')"
   ]
  },
  {
   "cell_type": "markdown",
   "metadata": {},
   "source": [
    "#### 创建用户"
   ]
  },
  {
   "cell_type": "code",
   "execution_count": 35,
   "metadata": {},
   "outputs": [],
   "source": [
    "#增加函数，增加用户节点\n",
    "def create_user_node(user_name, create_date=None, password=None,):\n",
    "        properties = {\"名字\": user_name}\n",
    "        if create_date is not None:\n",
    "            properties[\"注册日期\"] = create_date\n",
    "        if password is not None:\n",
    "            properties[\"密码\"] = password\n",
    "\n",
    "        node = Node('用户', **properties)\n",
    "        graph.create(node)\n",
    "        return node"
   ]
  },
  {
   "cell_type": "code",
   "execution_count": 36,
   "metadata": {},
   "outputs": [],
   "source": [
    "cuser=create_user_node('user1','2023-01-01','1234')"
   ]
  },
  {
   "cell_type": "markdown",
   "metadata": {},
   "source": [
    "#### “我的”：我喜欢（加入我喜欢和移除），创建歌单（增加歌单和删除歌单的功能）\n"
   ]
  },
  {
   "cell_type": "code",
   "execution_count": 105,
   "metadata": {},
   "outputs": [],
   "source": [
    "#增加函数，增加歌单与对应歌曲的关系，条件是歌单与用户有创建关系\n",
    "def create_song_list_relationship(user_name, song_name, rel_type, list_name, properties):\n",
    "    start_node = None\n",
    "    end_node = None\n",
    "    user_node = None\n",
    "\n",
    "    song_nodes = get_nodes(\"歌曲\", 名字=song_name)\n",
    "    for song_node in song_nodes:\n",
    "        end_node = song_node\n",
    "\n",
    "    list_nodes = get_nodes(\"歌单\", 歌单名=list_name)\n",
    "    for list_node in list_nodes:\n",
    "        start_node = list_node\n",
    "    \n",
    "    user_nodes = get_nodes('用户', 名字=user_name)\n",
    "    for user_node in user_nodes:\n",
    "        user_node = user_node\n",
    "\n",
    "    if start_node and end_node:\n",
    "        user_list_rel = get_user_list_relationship(user_name, list_name)\n",
    "        if user_list_rel is not None:\n",
    "            relationship = Relationship(start_node, rel_type, end_node, **properties)\n",
    "            graph.create(relationship)\n",
    "            print(\"关系创建成功\")\n",
    "            return relationship\n",
    "        else:\n",
    "            print(\"用户与歌单没有关系\")\n",
    "            return None\n",
    "    else:\n",
    "        print(\"未找到对应的节点\")\n",
    "        return None\n",
    "\n",
    "def get_user_list_relationship(user_name, list_name):\n",
    "    query = f\"\"\"\n",
    "    MATCH (:用户 {{名字: '{user_name}'}})-[r]->(:歌单 {{歌单名: '{list_name}'}})\n",
    "    RETURN r\n",
    "    \"\"\"\n",
    "    result = graph.run(query).evaluate()\n",
    "    return result\n"
   ]
  },
  {
   "cell_type": "code",
   "execution_count": 111,
   "metadata": {},
   "outputs": [
    {
     "name": "stdout",
     "output_type": "stream",
     "text": [
      "关系创建成功\n"
     ]
    }
   ],
   "source": [
    "#测试增加歌曲到歌单函数\n",
    "zenggedan=create_song_list_relationship('user1','lover','包含','新的歌单1',{'关系类型':'包含'})"
   ]
  },
  {
   "cell_type": "code",
   "execution_count": 82,
   "metadata": {},
   "outputs": [],
   "source": [
    "\n",
    "#删除函数，删除歌单与对应歌曲的关系，条件是歌单与用户有创建关系\n",
    "def delete_song_list_relationship(user_name, song_name, list_name):\n",
    "    song_node = None\n",
    "    list_node = None\n",
    "    user_node = None\n",
    "\n",
    "    song_nodes = get_nodes(\"歌曲\", 名字=song_name)\n",
    "    for node in song_nodes:\n",
    "        song_node = node\n",
    "\n",
    "    list_nodes = get_nodes(\"歌单\", 歌单名=list_name)\n",
    "    for node in list_nodes:\n",
    "        list_node = node\n",
    "\n",
    "    user_nodes = get_nodes('用户', 名字=user_name)\n",
    "    for node in user_nodes:\n",
    "        user_node = node\n",
    "\n",
    "    if song_node and list_node:\n",
    "        user_list_rel = get_user_list_relationship(user_name, list_name)\n",
    "        if user_list_rel is not None:\n",
    "            query = \"\"\"\n",
    "            MATCH (s1:歌单)-[r:包含]->(s2:歌曲)\n",
    "            WHERE s1.歌单名 = $list_name AND s2.名字 = $song_name\n",
    "            DELETE r\n",
    "            \"\"\"\n",
    "            result = graph.run(query, list_name=list_name, song_name=song_name)\n",
    "            result.evaluate()\n",
    "            print(\"关系删除成功\")\n",
    "        else:\n",
    "            print(\"用户与歌单没有关系\")\n",
    "    else:\n",
    "        print(\"未找到对应的节点\")\n"
   ]
  },
  {
   "cell_type": "code",
   "execution_count": 109,
   "metadata": {},
   "outputs": [
    {
     "name": "stdout",
     "output_type": "stream",
     "text": [
      "关系删除成功\n"
     ]
    }
   ],
   "source": [
    "shan1= delete_song_list_relationship('user1','听海','新的歌单1')"
   ]
  },
  {
   "cell_type": "code",
   "execution_count": 11,
   "metadata": {},
   "outputs": [],
   "source": [
    "\n",
    "#增加函数，增加歌单节点，并且增加客户与歌单节点的关系\n",
    "def create_list_node(list_name, create_date=None, brief_info=None,):\n",
    "        properties = {\"歌单名\": list_name}\n",
    "        if create_date is not None:\n",
    "            properties[\"创建日期\"] = create_date\n",
    "        if brief_info is not None:\n",
    "            properties[\"简介\"] = brief_info\n",
    "\n",
    "        node = Node('歌单', **properties)\n",
    "        graph.create(node)\n",
    "        return node\n",
    "\n",
    "def create_user_list_relationship(user_name, rel_type, list_name, properties):\n",
    "    start_node = None\n",
    "    end_node = None\n",
    "\n",
    "    nodes = get_nodes(\"用户\", 名字=user_name)\n",
    "    for node in nodes:\n",
    "        start_node = node\n",
    "        print(start_node)\n",
    "\n",
    "    nodes = get_nodes(\"歌单\", 歌单名=list_name)\n",
    "    for node in nodes:\n",
    "        end_node = node\n",
    "        print(end_node)\n",
    "\n",
    "    if start_node and end_node:\n",
    "        relationship = Relationship(start_node, rel_type, end_node, **properties)\n",
    "        graph.create(relationship)\n",
    "        print(\"关系创建成功\")\n",
    "        return relationship\n",
    "    else:\n",
    "        print(\"未找到对应的节点\")\n",
    "        return None\n",
    "    "
   ]
  },
  {
   "cell_type": "code",
   "execution_count": 32,
   "metadata": {},
   "outputs": [
    {
     "data": {
      "text/plain": [
       "Node('歌单', 创建日期='2023-1-2', 歌单名='歌单1', 简介='歌单2的简介')"
      ]
     },
     "execution_count": 32,
     "metadata": {},
     "output_type": "execute_result"
    }
   ],
   "source": [
    "#测试增加歌单函数\n",
    "add_list =create_list_node('歌单2','2023-1-2','歌单2的简介')\n",
    "add_list"
   ]
  },
  {
   "cell_type": "code",
   "execution_count": 38,
   "metadata": {},
   "outputs": [
    {
     "name": "stdout",
     "output_type": "stream",
     "text": [
      "(_20:用户 {名字: 'user1', 密码: '1234', 注册日期: '2023-01-01'})\n",
      "(_19:歌单 {创建日期: '2023-1-2', 歌单名: '\\u6b4c\\u53551', 简介: '\\u6b4c\\u53552\\u7684\\u7b80\\u4ecb'})\n",
      "关系创建成功\n"
     ]
    }
   ],
   "source": [
    "#测试增加用户和歌单的关系\n",
    "user_list = create_user_list_relationship('user1','创建','歌单1',{'关系类型':'创建'})"
   ]
  },
  {
   "cell_type": "code",
   "execution_count": 93,
   "metadata": {},
   "outputs": [],
   "source": [
    "#删除歌单节点，并且删除该歌单的关系，包括用户节点与歌单的关系，歌曲节点与歌单的关系\n",
    "def delete_list_node(playlist_name):\n",
    "    playlist_node = None\n",
    "\n",
    "    nodes = get_nodes(\"歌单\", name=playlist_name)\n",
    "    for node in nodes:\n",
    "        playlist_node = node\n",
    "\n",
    "    if playlist_node:\n",
    "        delete_relationships_with_user(playlist_name)\n",
    "        delete_relationships_with_other_nodes(playlist_name)\n",
    "        graph.delete(playlist_node)\n",
    "        print(\"歌单节点删除成功\")\n",
    "    else:\n",
    "        print(\"未找到对应的节点\")\n",
    "\n",
    "def delete_relationships_with_other_nodes(playlist_name):\n",
    "    query = f\"MATCH (p:歌单)-[r]-() WHERE p.歌单名 = '{playlist_name}' DELETE r\"\n",
    "    graph.run(query)\n",
    "\n",
    "def delete_relationships_with_user(playlist_name):\n",
    "    query = f\"MATCH (u:用户)-[r]->(p:歌单) WHERE p.歌单名 = '{playlist_name}' DELETE r\"\n",
    "    graph.run(query)\n"
   ]
  },
  {
   "cell_type": "code",
   "execution_count": 95,
   "metadata": {},
   "outputs": [
    {
     "name": "stdout",
     "output_type": "stream",
     "text": [
      "歌单节点删除成功\n"
     ]
    }
   ],
   "source": [
    "dpl=delete_list_node('歌单2')"
   ]
  },
  {
   "cell_type": "markdown",
   "metadata": {},
   "source": [
    "#### 查找：跳转一个搜索页面，歌手（歌手、三张专辑、十首歌）、歌名（歌手、专辑、类似歌曲）、专辑名\n"
   ]
  },
  {
   "cell_type": "code",
   "execution_count": 46,
   "metadata": {},
   "outputs": [],
   "source": [
    "#查询函数，根据查询信息给出对应节点信息\n",
    "#查询歌手时，显示该歌手节点的信息，显示与该歌手有关系的三个专辑节点信息，显示与该歌手节点有关系的十个歌曲节点信息，按点击量排序\n",
    "def search_artist( artist_name):\n",
    "    query = f\"\"\"\n",
    "    MATCH (artist:歌手 {{名字: '{artist_name}'}})\n",
    "    OPTIONAL MATCH (artist)-[:发行]->(album:专辑)\n",
    "    OPTIONAL MATCH (artist)-[:演唱]->(song:歌曲)\n",
    "    RETURN artist.名字 AS 姓名, artist.性别 AS 性别, artist.国籍 AS 国籍,\n",
    "           album.名字 AS 专辑名, album.发行时间 AS 专辑发行时间, album.简介 AS 专辑简介,\n",
    "           song.名字 AS 歌曲名, song.发行时间 AS 歌曲发行时间, song.时长 AS 歌曲时长, song.点击量 AS 点击量\n",
    "    ORDER BY song.点击量 DESC\n",
    "    LIMIT 10\n",
    "    \"\"\"\n",
    "    result = graph.run(query)\n",
    "    for record in result:\n",
    "        artist_name = record[\"姓名\"]\n",
    "        gender = record[\"性别\"]\n",
    "        nationality = record[\"国籍\"]\n",
    "        album_name = record[\"专辑名\"]\n",
    "        album_release_time = record[\"专辑发行时间\"]\n",
    "        album_description = record[\"专辑简介\"]\n",
    "        song_name = record[\"歌曲名\"]\n",
    "        song_release_time = record[\"歌曲发行时间\"]\n",
    "        song_duration = record[\"歌曲时长\"]\n",
    "        clicks = record[\"点击量\"]\n",
    "        \n",
    "        print(f\"歌手姓名: {artist_name}, 性别: {gender}, 国籍: {nationality}\")\n",
    "        print(f\"相关专辑:\")\n",
    "        print(f\"专辑名: {album_name}, 发行时间: {album_release_time}, 简介: {album_description}\")\n",
    "        print(f\"相关歌曲:\")\n",
    "        print(f\"歌曲名: {song_name}, 发行时间: {song_release_time}, 时长: {song_duration}, 点击量: {clicks}\")\n",
    "        print(\"----\")\n"
   ]
  },
  {
   "cell_type": "code",
   "execution_count": 100,
   "metadata": {},
   "outputs": [
    {
     "name": "stdout",
     "output_type": "stream",
     "text": [
      "歌手姓名: 周杰伦, 性别: 男, 国籍: 中国\n",
      "相关专辑:\n",
      "专辑名: 七里香, 发行时间: 2000-10-10, 简介: 七里香专辑的简介\n",
      "相关歌曲:\n",
      "歌曲名: 七里香, 发行时间: 2000-10-10, 时长: 3:20, 点击量: 302\n",
      "----\n"
     ]
    }
   ],
   "source": [
    "#测试歌手信息查询\n",
    "sat= search_artist('周杰伦')"
   ]
  },
  {
   "cell_type": "code",
   "execution_count": 48,
   "metadata": {},
   "outputs": [],
   "source": [
    "\n",
    "#查询歌名时，显示该歌曲的信息，并且显示与该歌曲有关系的歌手名称，显示与该歌曲有关系的专辑名称，显示与该歌曲有关系的歌单名称\n",
    "def search_song(song_name):\n",
    "    query = f\"\"\"\n",
    "    MATCH (song:歌曲 {{名字: '{song_name}'}})\n",
    "    OPTIONAL MATCH (song)<-[:演唱]-(artist:歌手)\n",
    "    OPTIONAL MATCH (song)<-[:发行]-(album:专辑)\n",
    "    OPTIONAL MATCH (song)<-[:包含]-(playlist:歌单)\n",
    "    RETURN song.名字 AS 歌曲名, song.发行时间 AS 发行时间, song.时长 AS 时长, song.歌词 AS 歌词,\n",
    "           artist.名字 AS 歌手, album.专辑名 AS 专辑, playlist.歌单名 AS 歌单\n",
    "    \"\"\"\n",
    "    result = graph.run(query)\n",
    "    for record in result:\n",
    "        song_name = record[\"歌曲名\"]\n",
    "        release_time = record[\"发行时间\"]\n",
    "        duration = record[\"时长\"]\n",
    "        lyrics = record[\"歌词\"]\n",
    "        artist = record.get(\"歌手\")\n",
    "        album = record.get(\"专辑\")\n",
    "        playlist = record.get(\"歌单\")\n",
    "        \n",
    "        print(f\"歌曲名: {song_name}\")\n",
    "        print(f\"发行时间: {release_time}\")\n",
    "        print(f\"时长: {duration}\")\n",
    "        print(f\"歌词: {lyrics}\")\n",
    "        \n",
    "        if artist:\n",
    "            print(f\"歌手: {artist}\")\n",
    "        \n",
    "        if album:\n",
    "            print(f\"专辑: {album}\")\n",
    "        \n",
    "        if playlist:\n",
    "            print(f\"歌单: {playlist}\")\n",
    "        \n",
    "        print(\"----\")\n"
   ]
  },
  {
   "cell_type": "code",
   "execution_count": 96,
   "metadata": {},
   "outputs": [
    {
     "name": "stdout",
     "output_type": "stream",
     "text": [
      "歌曲名: 七里香\n",
      "发行时间: 2000-10-10\n",
      "时长: 3:20\n",
      "歌词: 七里香的歌词\n",
      "歌手: 周杰伦\n",
      "歌单: 新的歌单1\n",
      "----\n"
     ]
    }
   ],
   "source": [
    "ssong=search_song('七里香')"
   ]
  },
  {
   "cell_type": "code",
   "execution_count": 50,
   "metadata": {},
   "outputs": [],
   "source": [
    "\n",
    "#查询专辑名时，显示该专辑的信息，并且显示该专辑有关系的歌手名称，显示与该专辑节点有关系的所有歌曲节点\n",
    "def search_album(album_name):\n",
    "    query = f\"\"\"\n",
    "    MATCH (album:专辑 {{名字: '{album_name}'}})\n",
    "    OPTIONAL MATCH (album)<-[:发行]-(artist:歌手)\n",
    "    OPTIONAL MATCH (album)<-[:包含]-(song:歌曲)\n",
    "    RETURN album.名字 AS 专辑名, album.发行时间 AS 发行时间, album.简介 AS 简介,\n",
    "           artist.名字 AS 歌手, song.歌曲名 AS 歌曲名, song.发行时间 AS 歌曲发行时间, song.时长 AS 歌曲时长\n",
    "    \"\"\"\n",
    "    result = graph.run(query)\n",
    "    for record in result:\n",
    "        album_name = record[\"专辑名\"]\n",
    "        release_time = record[\"发行时间\"]\n",
    "        description = record[\"简介\"]\n",
    "        artist = record.get(\"歌手\")\n",
    "        song_name = record.get(\"歌曲名\")\n",
    "        song_release_time = record.get(\"歌曲发行时间\")\n",
    "        song_duration = record.get(\"歌曲时长\")\n",
    "        \n",
    "        print(f\"专辑名: {album_name}\")\n",
    "        print(f\"发行时间: {release_time}\")\n",
    "        print(f\"简介: {description}\")\n",
    "        \n",
    "        if artist:\n",
    "            print(f\"歌手: {artist}\")\n",
    "        \n",
    "        if song_name:\n",
    "            print(\"相关歌曲:\")\n",
    "            print(f\"歌曲名: {song_name}, 发行时间: {song_release_time}, 时长: {song_duration}\")\n",
    "        \n",
    "        print(\"----\")\n"
   ]
  },
  {
   "cell_type": "code",
   "execution_count": 97,
   "metadata": {},
   "outputs": [
    {
     "name": "stdout",
     "output_type": "stream",
     "text": [
      "专辑名: 七里香\n",
      "发行时间: 2000-10-10\n",
      "简介: 七里香专辑的简介\n",
      "----\n"
     ]
    }
   ],
   "source": [
    "sablum=search_album('七里香')"
   ]
  },
  {
   "cell_type": "markdown",
   "metadata": {},
   "source": [
    "#### 用户可以修改歌单名。（用户可以关注歌手）"
   ]
  },
  {
   "cell_type": "code",
   "execution_count": 52,
   "metadata": {},
   "outputs": [],
   "source": [
    "#更新函数，用户对应歌单名更新为输入参数\n",
    "def update_list_name( old_playlist_name, new_playlist_name):\n",
    "    query = f\"\"\"\n",
    "    MATCH (playlist:歌单 {{歌单名: '{old_playlist_name}'}})\n",
    "    SET playlist.歌单名 = '{new_playlist_name}'\n",
    "    RETURN playlist\n",
    "    \"\"\"\n",
    "    result = graph.run(query)\n",
    "    if result:\n",
    "        print(f\"歌单名称已成功更新为 '{new_playlist_name}'\")\n",
    "    else:\n",
    "        print(\"未找到指定的歌单节点\")\n"
   ]
  },
  {
   "cell_type": "code",
   "execution_count": 55,
   "metadata": {},
   "outputs": [
    {
     "name": "stdout",
     "output_type": "stream",
     "text": [
      "歌单名称已成功更新为 '新的歌单1'\n"
     ]
    }
   ],
   "source": [
    "#测试更新歌单名\n",
    "upln= update_list_name('歌单1','新的歌单1')"
   ]
  },
  {
   "cell_type": "code",
   "execution_count": 106,
   "metadata": {},
   "outputs": [],
   "source": [
    "\n",
    "#增加函数，增加用户与歌手直接的关注关系\n",
    "def create_user_artist_relationship( user_name, artist_name):\n",
    "    user_node = None\n",
    "    artist_node = None\n",
    "\n",
    "    user_nodes = get_nodes(\"用户\", 名字=user_name)\n",
    "    for node in user_nodes:\n",
    "        user_node = node\n",
    "\n",
    "    artist_nodes = get_nodes(\"歌手\", 名字=artist_name)\n",
    "    for node in artist_nodes:\n",
    "        artist_node = node\n",
    "\n",
    "    if user_node and artist_node :\n",
    "        relationship = Relationship(user_node, \"关注\", artist_node)\n",
    "        graph.create(relationship)\n",
    "        print(f\"用户'{user_name}'已关注歌手'{artist_name}'\")\n",
    "    else:\n",
    "        print(\"未找到对应的用户或歌手节点\")"
   ]
  },
  {
   "cell_type": "code",
   "execution_count": 108,
   "metadata": {},
   "outputs": [
    {
     "name": "stdout",
     "output_type": "stream",
     "text": [
      "(_20:用户 {名字: 'user1', 密码: '1234', 注册日期: '2023-01-01'})\n",
      "(_6:歌手 {名字: '\\u5f20\\u5b66\\u53cb', 国籍: '\\u4e2d\\u56fd', 性别: '\\u7537'})\n",
      "用户'user1'已关注歌手'张学友'\n"
     ]
    }
   ],
   "source": [
    "#测试用户关注歌手\n",
    "car=create_user_artist_relationship('user1','张学友')"
   ]
  },
  {
   "cell_type": "markdown",
   "metadata": {},
   "source": [
    "#### 详情页显示该歌曲的全部信息，并且推荐按钮显示该歌曲的相关歌曲"
   ]
  },
  {
   "cell_type": "code",
   "execution_count": 64,
   "metadata": {},
   "outputs": [],
   "source": [
    "#查询函数，显示某歌曲的全部信息\n",
    "def query_song_info( song_name):\n",
    "    query = f\"\"\"\n",
    "    MATCH (song:歌曲 {{名字: '{song_name}'}})\n",
    "    RETURN song\n",
    "    \"\"\"\n",
    "    result = graph.run(query)\n",
    "    for record in result:\n",
    "        song_info = record[\"song\"]\n",
    "        print(song_info)\n"
   ]
  },
  {
   "cell_type": "code",
   "execution_count": 65,
   "metadata": {},
   "outputs": [
    {
     "name": "stdout",
     "output_type": "stream",
     "text": [
      "(_9:歌曲 {发行时间: '2000-10-10', 名字: '\\u4e03\\u91cc\\u9999', 时长: '3:20', 歌词: '\\u4e03\\u91cc\\u9999\\u7684\\u6b4c\\u8bcd', 点击量: 302})\n"
     ]
    }
   ],
   "source": [
    "qsi = query_song_info('七里香')"
   ]
  },
  {
   "cell_type": "code",
   "execution_count": 113,
   "metadata": {},
   "outputs": [],
   "source": [
    "\n",
    "#查询函数，显示和某歌曲在同一歌单节点，在同一专辑节点，在同一流派节点的歌曲，按照热度排序，显示前10首歌曲\n",
    "def recommend_songs(song_name):\n",
    "    query = f\"\"\"\n",
    "    MATCH (song:歌曲 {{名字: '{song_name}'}})\n",
    "    OPTIONAL MATCH (song)<-[:包含]-(:歌单)-[:包含]->(recommended:歌曲)\n",
    "    OPTIONAL MATCH (song)<-[:属于]-(:流派)-[:属于]->(recommended:歌曲)\n",
    "    OPTIONAL MATCH (song)<-[:包括]-(:专辑)-[:包括]->(recommended:歌曲)\n",
    "    WHERE recommended <> song\n",
    "    RETURN recommended.名字 AS 歌曲名, recommended.发行时间 AS 发行时间, recommended.时长 AS 时长, recommended.点击量 AS 点击量\n",
    "    ORDER BY recommended.点击量 DESC\n",
    "    LIMIT 10;\n",
    "    \"\"\"\n",
    "    result = graph.run(query)\n",
    "    for record in result:\n",
    "        song_name = record[\"歌曲名\"]\n",
    "        release_time = record[\"发行时间\"]\n",
    "        duration = record[\"时长\"]\n",
    "        clicks = record[\"点击量\"]\n",
    "        print(f\"歌曲名: {song_name}, 发行时间: {release_time}, 时长: {duration}, 点击量: {clicks}\")\n"
   ]
  },
  {
   "cell_type": "code",
   "execution_count": 114,
   "metadata": {},
   "outputs": [
    {
     "name": "stdout",
     "output_type": "stream",
     "text": [
      "歌曲名: 听海, 发行时间: 2002-10-10, 时长: 3:50, 点击量: 200\n",
      "歌曲名: lover, 发行时间: 2013-10-10, 时长: 4:20, 点击量: 100\n"
     ]
    }
   ],
   "source": [
    "recommend = recommend_songs('七里香')"
   ]
  }
 ],
 "metadata": {
  "kernelspec": {
   "display_name": "envTom",
   "language": "python",
   "name": "python3"
  },
  "language_info": {
   "codemirror_mode": {
    "name": "ipython",
    "version": 3
   },
   "file_extension": ".py",
   "mimetype": "text/x-python",
   "name": "python",
   "nbconvert_exporter": "python",
   "pygments_lexer": "ipython3",
   "version": "3.10.7"
  },
  "orig_nbformat": 4
 },
 "nbformat": 4,
 "nbformat_minor": 2
}
